{
 "cells": [
  {
   "cell_type": "markdown",
   "metadata": {},
   "source": [
    "3   Array aggregation function using NUMPY"
   ]
  },
  {
   "cell_type": "code",
   "execution_count": 1,
   "metadata": {},
   "outputs": [
    {
     "name": "stdout",
     "output_type": "stream",
     "text": [
      "Created array is  [0 1 2 3 4 5 6 7 8 9]\n",
      "Sum of the numbers in the array is  45\n",
      "Product of the numbers in the array is  0\n",
      "Average of the numbers in the array is  4.5\n",
      "Standard Deviation of the numbers in the array is  2.8722813232690143\n",
      "Minimum value in the array is  0\n",
      "Maximum value in the array is  9\n",
      "Peak to peak values in the array is  9\n"
     ]
    }
   ],
   "source": [
    "import numpy as np\n",
    "\n",
    "array = np.array(np.arange(10))\n",
    "\n",
    "print(\"Created array is \",array)\n",
    "print(\"Sum of the numbers in the array is \",np.sum(array))\n",
    "print(\"Product of the numbers in the array is \",np.prod(array))\n",
    "print(\"Average of the numbers in the array is \",np.mean(array))\n",
    "print(\"Standard Deviation of the numbers in the array is \",np.std(array))\n",
    "print(\"Minimum value in the array is \", np.min(array))\n",
    "print(\"Maximum value in the array is \", np.max(array))\n",
    "print(\"Peak to peak values in the array is \",np.ptp(array))"
   ]
  },
  {
   "cell_type": "markdown",
   "metadata": {},
   "source": [
    "4   Vectorized operations using NUMPY"
   ]
  },
  {
   "cell_type": "code",
   "execution_count": 2,
   "metadata": {},
   "outputs": [
    {
     "name": "stdout",
     "output_type": "stream",
     "text": [
      "Total sum of the arrays without vectors is  []\n",
      "Time taken for the calculation without the vectors is  0.04045534133911133 seconds\n",
      "Total sum of the arrays without vectors is  [19 23 23 ... 14  4 29]\n",
      "Time taken for the calcultaion using the vectors is  0.0\n"
     ]
    }
   ],
   "source": [
    "import numpy as np\n",
    "import time\n",
    "\n",
    "arr_2 = np.array(np.random.randint(1,20,size=202112))\n",
    "arr_1 = np.array(np.random.randint(1,20,size=202112))\n",
    "\n",
    "start = time.time()\n",
    "total_sum = np.array([])\n",
    "for i in range(len(arr_1)):\n",
    "    sum = (arr_1[i] + arr_2[i])\n",
    "print(\"Total sum of the arrays without vectors is \",total_sum)\n",
    "end = time.time()\n",
    "print(\"Time taken for the calculation without the vectors is \",end-start,\"seconds\")\n",
    "\n",
    "\n",
    "start = time.time()\n",
    "total_sum = 0\n",
    "total_sum = arr_1 + arr_2\n",
    "print(\"Total sum of the arrays without vectors is \", total_sum)\n",
    "print(\"Time taken for the calcultaion using the vectors is \",end-start)"
   ]
  },
  {
   "cell_type": "markdown",
   "metadata": {},
   "source": [
    "5   Use Map, Filter, Reduce and Lambda function on list using numpy\n",
    "\n"
   ]
  },
  {
   "cell_type": "code",
   "execution_count": 3,
   "metadata": {},
   "outputs": [
    {
     "name": "stdout",
     "output_type": "stream",
     "text": [
      "Original array is  [0 1 2 3 4 5 6 7 8 9]\n",
      "\n",
      "Mapping the array by adding every number with 2\n",
      "[2, 3, 4, 5, 6, 7, 8, 9, 10, 11]\n",
      "\n",
      "Filtering the array which is lesser than 5\n",
      "[0, 1, 2, 3, 4]\n",
      "\n",
      "Reducing the array by adding them all\n",
      "45\n"
     ]
    }
   ],
   "source": [
    "import numpy as np\n",
    "from functools import reduce\n",
    "\n",
    "a = np.array(np.arange(10))\n",
    "print(\"Original array is \",a)\n",
    "\n",
    "print(\"\\nMapping the array by adding every number with 2\")\n",
    "print(list(map(lambda i : i + 2,a)))\n",
    "\n",
    "print(\"\\nFiltering the array which is lesser than 5\")\n",
    "print(list(filter(lambda i : i<5,a)))\n",
    "\n",
    "print(\"\\nReducing the array by adding them all\")\n",
    "print(reduce(lambda a,b: a+b,a))"
   ]
  },
  {
   "cell_type": "markdown",
   "metadata": {},
   "source": [
    "6 Using aggregation functions on a DataFrame"
   ]
  },
  {
   "cell_type": "code",
   "execution_count": 8,
   "metadata": {},
   "outputs": [
    {
     "name": "stdout",
     "output_type": "stream",
     "text": [
      "Created dataframe is     Maths  Science  Social\n",
      "0     65       98      89\n",
      "1     34       65      78\n",
      "2     69       48      98\n",
      "\n",
      "\n",
      "            Maths     Science      Social\n",
      "sum    168.000000  211.000000  265.000000\n",
      "count    3.000000    3.000000    3.000000\n",
      "min     34.000000   48.000000   78.000000\n",
      "max     69.000000   98.000000   98.000000\n",
      "mean    56.000000   70.333333   88.333333\n",
      "var    367.000000  646.333333  100.333333\n",
      "std     19.157244   25.423087   10.016653\n"
     ]
    }
   ],
   "source": [
    "import pandas as pd\n",
    "import numpy as np\n",
    "\n",
    "df = pd.DataFrame({\n",
    "                'Maths' : [65,34,69],\n",
    "                'Science' : [98,65,48],\n",
    "                \"Social\" : [89,78,98]\n",
    "})\n",
    "\n",
    "print(\"Created dataframe is \",df)\n",
    "print(\"\\n\")\n",
    "print(df.agg(['sum','count','min','max','mean',\"var\",'std']))"
   ]
  },
  {
   "cell_type": "markdown",
   "metadata": {},
   "source": [
    "7 Grouping using Pandas on a DataFrame"
   ]
  },
  {
   "cell_type": "code",
   "execution_count": 16,
   "metadata": {},
   "outputs": [
    {
     "name": "stdout",
     "output_type": "stream",
     "text": [
      "The created dataframe is \n",
      "    Course  Fees  Duration\n",
      "0       C  1000        12\n",
      "1       C  3500        15\n",
      "2  Python  6800        61\n",
      "3    Java  9400        38\n"
     ]
    },
    {
     "data": {
      "text/html": [
       "<div>\n",
       "<style scoped>\n",
       "    .dataframe tbody tr th:only-of-type {\n",
       "        vertical-align: middle;\n",
       "    }\n",
       "\n",
       "    .dataframe tbody tr th {\n",
       "        vertical-align: top;\n",
       "    }\n",
       "\n",
       "    .dataframe thead th {\n",
       "        text-align: right;\n",
       "    }\n",
       "</style>\n",
       "<table border=\"1\" class=\"dataframe\">\n",
       "  <thead>\n",
       "    <tr style=\"text-align: right;\">\n",
       "      <th></th>\n",
       "      <th>Fees</th>\n",
       "      <th>Duration</th>\n",
       "    </tr>\n",
       "    <tr>\n",
       "      <th>Course</th>\n",
       "      <th></th>\n",
       "      <th></th>\n",
       "    </tr>\n",
       "  </thead>\n",
       "  <tbody>\n",
       "    <tr>\n",
       "      <th>C</th>\n",
       "      <td>4500</td>\n",
       "      <td>27</td>\n",
       "    </tr>\n",
       "    <tr>\n",
       "      <th>Java</th>\n",
       "      <td>9400</td>\n",
       "      <td>38</td>\n",
       "    </tr>\n",
       "    <tr>\n",
       "      <th>Python</th>\n",
       "      <td>6800</td>\n",
       "      <td>61</td>\n",
       "    </tr>\n",
       "  </tbody>\n",
       "</table>\n",
       "</div>"
      ],
      "text/plain": [
       "        Fees  Duration\n",
       "Course                \n",
       "C       4500        27\n",
       "Java    9400        38\n",
       "Python  6800        61"
      ]
     },
     "execution_count": 16,
     "metadata": {},
     "output_type": "execute_result"
    }
   ],
   "source": [
    "import pandas as pd\n",
    "\n",
    "df = pd.DataFrame({\n",
    "                \"Course\" : ['C','C','Python','Java'],\n",
    "                \"Fees\" : [1000,3500,6800,9400],\n",
    "                \"Duration\" : [12,15,61,38]\n",
    "})\n",
    "\n",
    "print(\"The created dataframe is \\n\",df)\n",
    "\n",
    "# df.groupby('Course').agg({'Fees':'sum',\"Duration\" : 'min'})\n",
    "# df.groupby('Course').agg(['sum','min'])\n",
    "df.groupby('Course').agg('sum')"
   ]
  },
  {
   "cell_type": "markdown",
   "metadata": {},
   "source": [
    "8 Pivot and melt functions using DataFrame\n"
   ]
  },
  {
   "cell_type": "code",
   "execution_count": null,
   "metadata": {},
   "outputs": [],
   "source": [
    "import pandas as pd\n"
   ]
  }
 ],
 "metadata": {
  "kernelspec": {
   "display_name": "Python 3",
   "language": "python",
   "name": "python3"
  },
  "language_info": {
   "codemirror_mode": {
    "name": "ipython",
    "version": 3
   },
   "file_extension": ".py",
   "mimetype": "text/x-python",
   "name": "python",
   "nbconvert_exporter": "python",
   "pygments_lexer": "ipython3",
   "version": "3.10.5"
  }
 },
 "nbformat": 4,
 "nbformat_minor": 2
}
